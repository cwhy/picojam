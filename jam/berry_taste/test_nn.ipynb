{
 "cells": [
  {
   "cell_type": "code",
   "execution_count": 49,
   "metadata": {},
   "outputs": [],
   "source": [
    "import sys\n",
    "sys.path.append(\"../berries\")\n",
    "\n",
    "import nnn\n",
    "import importlib\n",
    "importlib.reload(nnn)\n",
    "\n",
    "from nnn import rmsnorm, EPS\n",
    "from random_utils import infinite_safe_keys\n",
    "\n",
    "from jax.numpy import ones, mean, square, exp\n",
    "from jax.lax import rsqrt\n",
    "import jax.numpy as np\n",
    "from jax.random import normal\n",
    "\n",
    "seed = 0\n",
    "key_gen = infinite_safe_keys(seed)"
   ]
  },
  {
   "cell_type": "code",
   "execution_count": 50,
   "metadata": {},
   "outputs": [
    {
     "name": "stdout",
     "output_type": "stream",
     "text": [
      "-6.314905\n",
      "[-0.03467153 -0.00400841 -0.18247792  0.00708598  0.02979168  0.07110694\n",
      " -0.12874305 -0.15123652 -0.03338213 -0.13757929]\n",
      "[-0.34671533 -0.0400841  -1.8247792   0.0708598   0.2979168   0.7110694\n",
      " -1.2874305  -1.5123651  -0.33382133 -1.375793  ]\n",
      "0.10000001\n",
      "10.000001\n"
     ]
    }
   ],
   "source": [
    "def rmsnorm_o(w, x, eps=eps):\n",
    "    x_norm = x * rsqrt(mean(square(x)) + eps)\n",
    "    return x_norm * w\n",
    "\n",
    "n_dim = 10\n",
    "z = normal(next(key_gen).get(), (n_dim,))\n",
    "w = np.ones(n_dim)\n",
    "print(z.sum())\n",
    "\n",
    "print(rmsnorm(w, z))\n",
    "print(rmsnorm_o(w, z))\n",
    "\n",
    "print((rmsnorm(w, z) ** 2).sum())\n",
    "print((rmsnorm_o(w, z) ** 2).sum())\n"
   ]
  },
  {
   "cell_type": "code",
   "execution_count": 57,
   "metadata": {},
   "outputs": [
    {
     "name": "stdout",
     "output_type": "stream",
     "text": [
      "Efficiency (average runtime in seconds):\n",
      "Original: 0.000052\n",
      "Linalg:   0.000054\n",
      "\n",
      "Numerical Stability (standard deviation of gradients):\n",
      "Original: 5.436819e-08\n",
      "Linalg:   5.436819e-08\n"
     ]
    }
   ],
   "source": [
    "import jax\n",
    "import jax.numpy as jnp\n",
    "from jax import random, grad\n",
    "import time\n",
    "linalg = jnp.linalg\n",
    "\n",
    "def rmsnorm_original(x, weight, eps=1e-8):\n",
    "    mean_squared = jnp.mean(x ** 2)\n",
    "    return x * weight * jax.lax.rsqrt(mean_squared + eps)\n",
    "\n",
    "def rmsnorm_linalg(x, weight, eps=1e-8):\n",
    "    norm = linalg.norm(x) / jnp.sqrt(x.size)\n",
    "    return weight * x / (norm + eps)\n",
    "\n",
    "# Benchmark function\n",
    "def benchmark(func, x, weight, n_runs=100000):\n",
    "    @jax.jit\n",
    "    def run(x, weight):\n",
    "        return func(x, weight)\n",
    "    \n",
    "    # Compile\n",
    "    _ = run(x, weight)\n",
    "    \n",
    "    start = time.time()\n",
    "    for _ in range(n_runs):\n",
    "        _ = run(x, weight).block_until_ready()\n",
    "    end = time.time()\n",
    "    return (end - start) / n_runs\n",
    "\n",
    "# Stability test function\n",
    "def stability_test(func, x, weight, n_runs=10000):\n",
    "    grad_func = jax.jit(grad(lambda x, w: jnp.sum(func(x, w))))\n",
    "    results = []\n",
    "    for _ in range(n_runs):\n",
    "        x = random.normal(random.PRNGKey(_), x.shape) * 1e6  # Large inputs\n",
    "        results.append(grad_func(x, weight))\n",
    "    return jnp.std(jnp.stack(results))\n",
    "\n",
    "# Run tests\n",
    "d_model = 512\n",
    "x = random.normal(random.PRNGKey(0), (d_model,)) * random.normal(random.PRNGKey(0), (d_model,))\n",
    "weight = jnp.ones((d_model,))\n",
    "\n",
    "print(\"Efficiency (average runtime in seconds):\")\n",
    "print(f\"Original: {benchmark(rmsnorm_original, x, weight):.6f}\")\n",
    "print(f\"Linalg:   {benchmark(rmsnorm_linalg, x, weight):.6f}\")\n",
    "\n",
    "print(\"\\nNumerical Stability (standard deviation of gradients):\")\n",
    "print(f\"Original: {stability_test(rmsnorm_original, x, weight):.6e}\")\n",
    "print(f\"Linalg:   {stability_test(rmsnorm_linalg, x, weight):.6e}\")"
   ]
  }
 ],
 "metadata": {
  "kernelspec": {
   "display_name": ".venv",
   "language": "python",
   "name": "python3"
  },
  "language_info": {
   "codemirror_mode": {
    "name": "ipython",
    "version": 3
   },
   "file_extension": ".py",
   "mimetype": "text/x-python",
   "name": "python",
   "nbconvert_exporter": "python",
   "pygments_lexer": "ipython3",
   "version": "3.10.12"
  }
 },
 "nbformat": 4,
 "nbformat_minor": 2
}
