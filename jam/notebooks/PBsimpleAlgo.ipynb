{
 "cells": [
  {
   "cell_type": "code",
   "execution_count": 1,
   "metadata": {},
   "outputs": [],
   "source": [
    "import sys\n",
    "\n",
    "sys.path.append(\"../berries\")\n"
   ]
  },
  {
   "cell_type": "code",
   "execution_count": 2,
   "metadata": {},
   "outputs": [],
   "source": [
    "import random_utils\n",
    "seed = 0\n",
    "key_gen = random_utils.infinite_safe_keys(seed)\n",
    "\n",
    "from datasets import load_dataset\n",
    "cache_dir=\"$HOME/.cache/huggingface/datasets\"\n",
    "mnist = load_dataset(\"mnist\", cache_dir=cache_dir, trust_remote_code=True).with_format(\"jax\")\n",
    "#mnist = load_dataset(\"fashion_mnist\", cache_dir=cache_dir, trust_remote_code=True).with_format(\"jax\")\n",
    "mnistData = mnist['train']\n",
    "\n",
    "X_img = mnistData['image']\n",
    "y = mnistData['label']\n",
    "X_img_test = mnist[\"test\"][\"image\"]\n",
    "n_test_samples = X_img_test.shape[0]\n",
    "y_test = mnist[\"test\"][\"label\"]\n",
    "n_samples, _, _  = X_img.shape\n",
    "X_train = X_img.reshape((n_samples, 1, 28, 28))\n",
    "X_test = X_img_test.reshape((n_test_samples, 1, 28, 28))\n",
    "n_channels = 1\n",
    "d_x = (28, 28)\n",
    "d_y = len(set(y.tolist()))"
   ]
  },
  {
   "cell_type": "code",
   "execution_count": 11,
   "metadata": {},
   "outputs": [
    {
     "name": "stdout",
     "output_type": "stream",
     "text": [
      "2048\n"
     ]
    }
   ],
   "source": [
    "from jax.image import resize\n",
    "from jax.numpy import int32, int64\n",
    "from pf import F, _\n",
    "from plot_utils import visualize_matrix\n",
    "from IPython.display import display\n",
    "\n",
    "q_x1 = 16\n",
    "q_x2 = 16\n",
    "n_x_q = 8\n",
    "\n",
    "def quantize(x):\n",
    "    x = (F(resize).vmap((0, None, None), 0)(x, (1, q_x1, q_x2), \"bilinear\") + n_x_q//2) // (256 // n_x_q) \n",
    "    return int32(x)\n",
    "\n",
    "X_train_q = quantize(X_train)\n",
    "X_test_q = quantize(X_test)\n",
    "n_nodes_x = n_x_q*q_x1*q_x2\n",
    "print(n_nodes_x)"
   ]
  },
  {
   "cell_type": "code",
   "execution_count": 30,
   "metadata": {},
   "outputs": [],
   "source": [
    "from jax import jit, vmap, numpy as np\n",
    "\n",
    "def coords_to_index(x1, x2, v):\n",
    "    index = ((x1 * q_x2) + x2) * n_x_q + v\n",
    "    return index\n",
    "\n",
    "def index_to_coords(index):\n",
    "    x1 = index // (n_x_q * q_x2)\n",
    "    remainder = index % (n_x_q * q_x2)\n",
    "    x2 = remainder // n_x_q\n",
    "    v = remainder % n_x_q\n",
    "    return x1, x2, v\n",
    "\n",
    "idx_x1 = np.arange(q_x1)\n",
    "idx_x2 = np.arange(q_x2)\n",
    "ii, jj = np.meshgrid(idx_x1, idx_x2, indexing='ij')\n",
    "def encode(x):\n",
    "    return coords_to_index(ii, jj, x).ravel()\n",
    "\n",
    "encode_all = vmap(encode, in_axes=0, out_axes=0)\n",
    "\n",
    "X_train_code = encode_all(X_train_q)\n",
    "X_test_code = encode_all(X_test_q)\n"
   ]
  },
  {
   "cell_type": "code",
   "execution_count": 88,
   "metadata": {},
   "outputs": [
    {
     "name": "stdout",
     "output_type": "stream",
     "text": [
      "Training Wy\n"
     ]
    },
    {
     "name": "stderr",
     "output_type": "stream",
     "text": [
      "100%|██████████| 40/40 [00:00<00:00, 158.41it/s]\n"
     ]
    },
    {
     "name": "stdout",
     "output_type": "stream",
     "text": [
      "init accuracy 0.0625\n"
     ]
    },
    {
     "name": "stderr",
     "output_type": "stream",
     "text": [
      "100%|██████████| 40/40 [00:00<00:00, 207.26it/s]\n"
     ]
    },
    {
     "name": "stdout",
     "output_type": "stream",
     "text": [
      "Wy1 accuracy 0.8125\n",
      "[[76515.125 98380.53  77871.19  81090.    79169.836 71611.41  79539.4\n",
      "  86180.164 77380.22  81232.71 ]]\n",
      "[5923. 6742. 5958. 6131. 5842. 5421. 5918. 6265. 5851. 5949.]\n"
     ]
    },
    {
     "name": "stderr",
     "output_type": "stream",
     "text": [
      "100%|██████████| 60000/60000 [00:35<00:00, 1709.60it/s]\n",
      "100%|██████████| 40/40 [00:00<00:00, 211.13it/s]"
     ]
    },
    {
     "name": "stdout",
     "output_type": "stream",
     "text": [
      "Wy3 accuracy 0.875\n"
     ]
    },
    {
     "name": "stderr",
     "output_type": "stream",
     "text": [
      "\n"
     ]
    }
   ],
   "source": [
    "from jax.nn import softmax\n",
    "from tqdm import tqdm\n",
    "top_quantile = 0.8\n",
    "train_batch_size = 64\n",
    "test_batch_size = 256\n",
    "add_val = 1\n",
    "\n",
    "def update_Wy_code(Wy, x_code, y):\n",
    "    return Wy.at[x_code, y].add(add_val)\n",
    "\n",
    "def update_Wy_code_att(Wy, x_code, y):\n",
    "    threshold = np.quantile(Wy, top_quantile)\n",
    "    return Wy.at[x_code, y].add(add_val*(Wy[x_code, y] > threshold))\n",
    "\n",
    "def update_Wy_code_att_static(Wy, x_code, y):\n",
    "    return Wy.at[x_code, y].add(add_val*(Wy[x_code, y] > threshold_))\n",
    "\n",
    "def predict(Wy, x_code):\n",
    "    return Wy[x_code, :].mean(axis=0).argmax()\n",
    "\n",
    "def accuracy_batch(Wy, X_code, y):\n",
    "    for i in tqdm(range(0, n_test_samples, test_batch_size)):\n",
    "        y_pred = vmap(predict, in_axes=(None, 0))(Wy, X_code[i:i+test_batch_size, :])\n",
    "        accuracy = (y_pred == y[i:i+test_batch_size]).mean()\n",
    "    return accuracy\n",
    "\n",
    "def train(update, Wy, X, y):\n",
    "    for i in tqdm(range(0, n_samples)):\n",
    "        Wy = jit(update)(Wy, X[i, :], y[i])\n",
    "    return Wy\n",
    "\n",
    "def train_batch(update, Wy, X, y):\n",
    "    for i in tqdm(range(0, n_samples, train_batch_size)):\n",
    "        Wy = jit(update)(Wy, X[i:i+train_batch_size, :], y[i:i+train_batch_size])\n",
    "    return Wy\n",
    "\n",
    "Wy = np.zeros((n_nodes_x, d_y))\n",
    "# X_train_code[0, :], y[0]\n",
    "# Wyy = Wy.at[X_train_code[0, :], y[0]].add(1)\n",
    "print(\"Training Wy\")\n",
    "acc0 = accuracy_batch(Wy/np.linalg.norm(Wy, axis=0, keepdims=True), X_test_code, y_test)\n",
    "print(\"init accuracy\", acc0)\n",
    "\n",
    "# Wy1 = train(update_Wy_code, Wy, X_train_code, y)\n",
    "acc1 = accuracy_batch(Wy1/np.linalg.norm(Wy1, axis=0, keepdims=True), X_test_code, y_test)\n",
    "print(\"Wy1 accuracy\", acc1)\n",
    "print(np.linalg.norm(Wy1, axis=0, keepdims=True))\n",
    "print(Wy1[0, :])\n",
    "\n",
    "# Wy2 = train(update_Wy_code_att, Wy1, X_train_code, y)\n",
    "# print(\"Wy2 accuracy\", accuracy_batch(Wy2/np.linalg.norm(Wy2, axis=0, keepdims=True), X_test_code, y_test))\n",
    "\n",
    "\n",
    "threshold_ = np.quantile(Wy1, 0.8)\n",
    "Wy3 = train(update_Wy_code_att_static, Wy1, X_train_code, y)\n",
    "print(\"Wy3 accuracy\", accuracy_batch(Wy3/np.linalg.norm(Wy3, axis=0, keepdims=True), X_test_code, y_test))\n"
   ]
  },
  {
   "cell_type": "code",
   "execution_count": 17,
   "metadata": {},
   "outputs": [
    {
     "name": "stdout",
     "output_type": "stream",
     "text": [
      "0.0\n"
     ]
    },
    {
     "name": "stderr",
     "output_type": "stream",
     "text": [
      "  0%|          | 0/60000 [00:00<?, ?it/s]"
     ]
    },
    {
     "name": "stderr",
     "output_type": "stream",
     "text": [
      "  0%|          | 0/60000 [00:00<?, ?it/s]"
     ]
    },
    {
     "name": "stdout",
     "output_type": "stream",
     "text": [
      "(1048576,)\n"
     ]
    },
    {
     "name": "stderr",
     "output_type": "stream",
     "text": [
      "\n"
     ]
    },
    {
     "ename": "TracerBoolConversionError",
     "evalue": "Attempted boolean conversion of traced array with shape bool[]..\nThe error occurred while tracing the function update_Wy_att at /tmp/ipykernel_9891/2944994897.py:34 for jit. This concrete value was not available in Python because it depends on the values of the arguments Wy, x, and y.\nSee https://jax.readthedocs.io/en/latest/errors.html#jax.errors.TracerBoolConversionError",
     "output_type": "error",
     "traceback": [
      "\u001b[0;31m---------------------------------------------------------------------------\u001b[0m",
      "\u001b[0;31mTracerBoolConversionError\u001b[0m                 Traceback (most recent call last)",
      "Cell \u001b[0;32mIn[17], line 73\u001b[0m\n\u001b[1;32m     69\u001b[0m     \u001b[38;5;28;01mreturn\u001b[39;00m Wy\n\u001b[1;32m     71\u001b[0m \u001b[38;5;66;03m# W = train_W1(W, X_train_q)\u001b[39;00m\n\u001b[1;32m     72\u001b[0m \u001b[38;5;66;03m# Wy1 = train_Wy1(Wy, X_train_q, y)\u001b[39;00m\n\u001b[0;32m---> 73\u001b[0m Wy2 \u001b[38;5;241m=\u001b[39m \u001b[43mtrain_Wy1_att\u001b[49m\u001b[43m(\u001b[49m\u001b[43mWy\u001b[49m\u001b[43m,\u001b[49m\u001b[43m \u001b[49m\u001b[43mX_train_q\u001b[49m\u001b[43m,\u001b[49m\u001b[43m \u001b[49m\u001b[43my\u001b[49m\u001b[43m)\u001b[49m\n",
      "Cell \u001b[0;32mIn[17], line 68\u001b[0m, in \u001b[0;36mtrain_Wy1_att\u001b[0;34m(Wy, X, y)\u001b[0m\n\u001b[1;32m     66\u001b[0m \u001b[38;5;28;01mdef\u001b[39;00m \u001b[38;5;21mtrain_Wy1_att\u001b[39m(Wy, X, y):\n\u001b[1;32m     67\u001b[0m     \u001b[38;5;28;01mfor\u001b[39;00m i \u001b[38;5;129;01min\u001b[39;00m tqdm(\u001b[38;5;28mrange\u001b[39m(\u001b[38;5;241m0\u001b[39m, n_samples)):\n\u001b[0;32m---> 68\u001b[0m         Wy \u001b[38;5;241m=\u001b[39m \u001b[43mjit\u001b[49m\u001b[43m(\u001b[49m\u001b[43mupdate_Wy_att\u001b[49m\u001b[43m)\u001b[49m\u001b[43m(\u001b[49m\u001b[43mWy\u001b[49m\u001b[43m,\u001b[49m\u001b[43m \u001b[49m\u001b[43mX\u001b[49m\u001b[43m[\u001b[49m\u001b[43mi\u001b[49m\u001b[43m,\u001b[49m\u001b[43m \u001b[49m\u001b[43m:\u001b[49m\u001b[43m,\u001b[49m\u001b[43m \u001b[49m\u001b[43m:\u001b[49m\u001b[43m]\u001b[49m\u001b[43m,\u001b[49m\u001b[43m \u001b[49m\u001b[43my\u001b[49m\u001b[43m[\u001b[49m\u001b[43mi\u001b[49m\u001b[43m]\u001b[49m\u001b[43m)\u001b[49m\n\u001b[1;32m     69\u001b[0m     \u001b[38;5;28;01mreturn\u001b[39;00m Wy\n",
      "    \u001b[0;31m[... skipping hidden 12 frame]\u001b[0m\n",
      "Cell \u001b[0;32mIn[17], line 39\u001b[0m, in \u001b[0;36mupdate_Wy_att\u001b[0;34m(Wy, x, y)\u001b[0m\n\u001b[1;32m     37\u001b[0m \u001b[38;5;28mprint\u001b[39m(index1\u001b[38;5;241m.\u001b[39mshape)\n\u001b[1;32m     38\u001b[0m \u001b[38;5;28;01mfor\u001b[39;00m ii \u001b[38;5;129;01min\u001b[39;00m \u001b[38;5;28mrange\u001b[39m(n_nodes_x):\n\u001b[0;32m---> 39\u001b[0m     \u001b[38;5;28;01mif\u001b[39;00m Wy[index1[ii], y] \u001b[38;5;241m>\u001b[39m threshold:\n\u001b[1;32m     40\u001b[0m         Wy \u001b[38;5;241m=\u001b[39m Wy\u001b[38;5;241m.\u001b[39mat[index1[ii], y]\u001b[38;5;241m.\u001b[39madd(\u001b[38;5;241m1\u001b[39m)\n\u001b[1;32m     41\u001b[0m \u001b[38;5;28;01mreturn\u001b[39;00m Wy\n",
      "    \u001b[0;31m[... skipping hidden 1 frame]\u001b[0m\n",
      "File \u001b[0;32m~/Projects/picojam/pico/.venv/lib/python3.10/site-packages/jax/_src/core.py:1510\u001b[0m, in \u001b[0;36mconcretization_function_error.<locals>.error\u001b[0;34m(self, arg)\u001b[0m\n\u001b[1;32m   1509\u001b[0m \u001b[38;5;28;01mdef\u001b[39;00m \u001b[38;5;21merror\u001b[39m(\u001b[38;5;28mself\u001b[39m, arg):\n\u001b[0;32m-> 1510\u001b[0m   \u001b[38;5;28;01mraise\u001b[39;00m TracerBoolConversionError(arg)\n",
      "\u001b[0;31mTracerBoolConversionError\u001b[0m: Attempted boolean conversion of traced array with shape bool[]..\nThe error occurred while tracing the function update_Wy_att at /tmp/ipykernel_9891/2944994897.py:34 for jit. This concrete value was not available in Python because it depends on the values of the arguments Wy, x, and y.\nSee https://jax.readthedocs.io/en/latest/errors.html#jax.errors.TracerBoolConversionError"
     ]
    }
   ],
   "source": [
    "# Predefined shape of A1\n",
    "\n",
    "i, j, k, l = np.meshgrid(idx_x1, idx_x1, idx_x2, idx_x2, indexing='ij')\n",
    "W = np.zeros((n_nodes_x, n_nodes_x))\n",
    "\n",
    "\n",
    "\n",
    "\n",
    "def update_W(W, x):\n",
    "    index1 = coords_to_index(i, j, x[i, j]).ravel()\n",
    "    index2 = coords_to_index(k, l, x[k, l]).ravel()\n",
    "    W = W.at[index1, index2].add(1)\n",
    "    return W\n",
    "\n",
    "def update_Wy(Wy, x, y):\n",
    "    index1 = coords_to_index(i, j, x[i, j]).ravel()\n",
    "    Wy = Wy.at[index1, y].add(1)\n",
    "    return Wy\n",
    "\n",
    "def update_Wy_att(Wy, x, y):\n",
    "    threshold = np.quantile(Wy, top_quantile)\n",
    "    index1 = coords_to_index(i, j, x[i, j]).ravel()\n",
    "    print(index1.shape)\n",
    "    for ii in range(n_nodes_x):\n",
    "        if Wy[index1[ii], y] > threshold:\n",
    "            Wy = Wy.at[index1[ii], y].add(1)\n",
    "    return Wy\n",
    "\n",
    "\n",
    "update_W_vectorized = vmap(update_W, in_axes=(None, 0))\n",
    "update_Wy_vectorized = vmap(update_Wy, in_axes=(None, 0, 0))\n",
    "\n",
    "print(W.sum())\n",
    "\n",
    "\n",
    "def train_W(W, X):\n",
    "    for i in range(0, n_samples, batch_size):\n",
    "        batch = X[i:i + batch_size, :, :]\n",
    "        W = jit(update_W_vectorized)(W, batch)\n",
    "    return W\n",
    "\n",
    "def train_W1(W, X):\n",
    "    for i in tqdm(range(0, n_samples)):\n",
    "        W = jit(update_W)(W, X[i, :, :])\n",
    "    return W\n",
    "\n",
    "def train_Wy1(Wy, X, y):\n",
    "    for i in tqdm(range(0, n_samples)):\n",
    "        Wy = jit(update_Wy)(Wy, X[i, :, :], y[i])\n",
    "    return Wy\n",
    "\n",
    "def train_Wy1_att(Wy, X, y):\n",
    "    for i in tqdm(range(0, n_samples)):\n",
    "        Wy = jit(update_Wy_att)(Wy, X[i, :, :], y[i])\n",
    "    return Wy\n",
    "\n",
    "# W = train_W1(W, X_train_q)\n",
    "# Wy1 = train_Wy1(Wy, X_train_q, y)\n",
    "Wy2 = train_Wy1_att(Wy, X_train_q, y)\n"
   ]
  },
  {
   "cell_type": "code",
   "execution_count": 13,
   "metadata": {},
   "outputs": [
    {
     "name": "stderr",
     "output_type": "stream",
     "text": [
      "100%|██████████| 40/40 [00:00<00:00, 141.80it/s]\n"
     ]
    },
    {
     "name": "stdout",
     "output_type": "stream",
     "text": [
      "0.3985\n"
     ]
    },
    {
     "name": "stderr",
     "output_type": "stream",
     "text": [
      "100%|██████████| 235/235 [00:07<00:00, 33.08it/s]"
     ]
    },
    {
     "name": "stdout",
     "output_type": "stream",
     "text": [
      "0.40951666\n"
     ]
    },
    {
     "name": "stderr",
     "output_type": "stream",
     "text": [
      "\n"
     ]
    }
   ],
   "source": [
    "m = X_test_q[0, :]\n",
    "def predict(Wy, m):\n",
    "    Wy_norm = Wy / Wy.sum(axis=1, keepdims=True)\n",
    "    ii, jj = np.meshgrid(idx_x1, idx_x2, indexing='ij')\n",
    "    mi = coords_to_index(ii, jj, m).ravel()\n",
    "    return Wy_norm[mi, :].sum(axis=0).argmax()\n",
    "\n",
    "batch_size = 256\n",
    "@jit\n",
    "def predict_all(Wy, X):\n",
    "    return np.array([predict(Wy, x) for x in X])\n",
    "\n",
    "def predict_all_batch(Wy, X):\n",
    "    v_predict = vmap(predict, in_axes=(None, 0))\n",
    "    for i in tqdm(range(0, X.shape[0], batch_size)):\n",
    "        batch = X[i:i + batch_size, :, :]\n",
    "        if i == 0:\n",
    "            predictions = v_predict(Wy, batch)\n",
    "        else:\n",
    "            predictions = np.concatenate((predictions, v_predict(Wy, batch)))\n",
    "    return predictions\n",
    "\n",
    "def accuracy(Wy, X, y):\n",
    "    return (predict_all(Wy, X) == y).mean()\n",
    "\n",
    "def accuracy_batch(Wy, X, y):\n",
    "    return (predict_all_batch(Wy, X) == y).mean()\n",
    "\n",
    "print(accuracy_batch(Wy, X_test_q, y_test))\n",
    "print(accuracy_batch(Wy, X_train_q, y))"
   ]
  },
  {
   "cell_type": "code",
   "execution_count": 36,
   "metadata": {},
   "outputs": [
    {
     "name": "stdout",
     "output_type": "stream",
     "text": [
      "[[0 0 0 0 0 0 0 0 0 0 0 0 0 0 0 0 0 0 0 0 0 0 0 0]\n",
      " [0 1 0 0 1 0 0 0 0 0 1 0 0 0 1 0 0 0 0 1 0 1 0 0]\n",
      " [0 0 0 0 0 0 0 0 0 0 0 0 0 0 0 0 0 0 0 0 0 0 0 0]\n",
      " [0 0 0 0 0 0 0 0 0 0 0 0 0 0 0 0 0 0 0 0 0 0 0 0]\n",
      " [0 1 0 0 1 0 0 0 0 0 1 0 0 0 1 0 0 0 0 1 0 1 0 0]\n",
      " [0 0 0 0 0 0 0 0 0 0 0 0 0 0 0 0 0 0 0 0 0 0 0 0]\n",
      " [0 0 0 0 0 0 0 0 0 0 0 0 0 0 0 0 0 0 0 0 0 0 0 0]\n",
      " [0 0 0 0 0 0 0 0 0 0 0 0 0 0 0 0 0 0 0 0 0 0 0 0]\n",
      " [0 0 0 0 0 0 0 0 0 0 0 0 0 0 0 0 0 0 0 0 0 0 0 0]\n",
      " [0 0 0 0 0 0 0 0 0 0 0 0 0 0 0 0 0 0 0 0 0 0 0 0]\n",
      " [0 1 0 0 1 0 0 0 0 0 1 0 0 0 1 0 0 0 0 1 0 1 0 0]\n",
      " [0 0 0 0 0 0 0 0 0 0 0 0 0 0 0 0 0 0 0 0 0 0 0 0]\n",
      " [0 0 0 0 0 0 0 0 0 0 0 0 0 0 0 0 0 0 0 0 0 0 0 0]\n",
      " [0 0 0 0 0 0 0 0 0 0 0 0 0 0 0 0 0 0 0 0 0 0 0 0]\n",
      " [0 1 0 0 1 0 0 0 0 0 1 0 0 0 1 0 0 0 0 1 0 1 0 0]\n",
      " [0 0 0 0 0 0 0 0 0 0 0 0 0 0 0 0 0 0 0 0 0 0 0 0]\n",
      " [0 0 0 0 0 0 0 0 0 0 0 0 0 0 0 0 0 0 0 0 0 0 0 0]\n",
      " [0 0 0 0 0 0 0 0 0 0 0 0 0 0 0 0 0 0 0 0 0 0 0 0]\n",
      " [0 0 0 0 0 0 0 0 0 0 0 0 0 0 0 0 0 0 0 0 0 0 0 0]\n",
      " [0 1 0 0 1 0 0 0 0 0 1 0 0 0 1 0 0 0 0 1 0 1 0 0]\n",
      " [0 0 0 0 0 0 0 0 0 0 0 0 0 0 0 0 0 0 0 0 0 0 0 0]\n",
      " [0 1 0 0 1 0 0 0 0 0 1 0 0 0 1 0 0 0 0 1 0 1 0 0]\n",
      " [0 0 0 0 0 0 0 0 0 0 0 0 0 0 0 0 0 0 0 0 0 0 0 0]\n",
      " [0 0 0 0 0 0 0 0 0 0 0 0 0 0 0 0 0 0 0 0 0 0 0 0]]\n"
     ]
    }
   ],
   "source": [
    "import numpy as np\n",
    "\n",
    "def create_B1_matrix(A1):\n",
    "    m, n = A1.shape\n",
    "    idx_m = np.arange(m)\n",
    "    idx_n = np.arange(n)\n",
    "    B1 = np.zeros((4 * m * n, 4 * m * n), dtype=int)\n",
    "\n",
    "    i, j, k, l = np.meshgrid(idx_m, idx_n, idx_m, idx_n, indexing='ij')\n",
    "\n",
    "    value1 = A1[i, j]\n",
    "    value2 = A1[k, l]\n",
    "\n",
    "    index1 = ((i * n + j) * 4 + value1).ravel()\n",
    "    index2 = ((k * n + l) * 4 + value2).ravel()\n",
    "\n",
    "    B1[index1, index2] = 1\n",
    "\n",
    "    return B1\n",
    "\n",
    "# Example usage\n",
    "A1 = np.array([[1, 0, 2], [2, 3, 1]])\n",
    "B1 = create_B1_matrix(A1)\n",
    "\n",
    "# Print the resulting B1 matrix\n",
    "print(B1)"
   ]
  }
 ],
 "metadata": {
  "kernelspec": {
   "display_name": ".venv",
   "language": "python",
   "name": "python3"
  },
  "language_info": {
   "codemirror_mode": {
    "name": "ipython",
    "version": 3
   },
   "file_extension": ".py",
   "mimetype": "text/x-python",
   "name": "python",
   "nbconvert_exporter": "python",
   "pygments_lexer": "ipython3",
   "version": "3.10.12"
  }
 },
 "nbformat": 4,
 "nbformat_minor": 2
}
