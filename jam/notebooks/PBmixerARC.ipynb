{
 "cells": [
  {
   "cell_type": "code",
   "execution_count": 10,
   "metadata": {},
   "outputs": [],
   "source": [
    "import sys\n",
    "\n",
    "sys.path.append(\"../berries\")\n"
   ]
  },
  {
   "cell_type": "code",
   "execution_count": 20,
   "metadata": {},
   "outputs": [
    {
     "name": "stdout",
     "output_type": "stream",
     "text": [
      "/Data/datasets/arc/arc-agi_evaluation_challenges.json\n",
      "/Data/datasets/arc/arc-agi_evaluation_solutions.json\n",
      "/Data/datasets/arc/arc-agi_test_challenges.json\n",
      "/Data/datasets/arc/arc-agi_training_challenges.json\n",
      "/Data/datasets/arc/arc-agi_training_solutions.json\n",
      "/Data/datasets/arc/sample_submission.json\n"
     ]
    }
   ],
   "source": [
    "import os\n",
    "import json\n",
    "data_dir = \"/Data/datasets/arc/\"\n",
    "for dirname, _, filenames in os.walk(data_dir):\n",
    "    for filename in filenames:\n",
    "        print(os.path.join(dirname, filename))"
   ]
  },
  {
   "cell_type": "code",
   "execution_count": 13,
   "metadata": {},
   "outputs": [],
   "source": [
    "train_file = \"arc-agi_training_challenges.json\"\n",
    "evaluation_file = \"arc-agi_evaluation_challenges.json\"\n",
    "test_file = \"arc-agi_test_challenges.json\"\n",
    "\n",
    "train_json = json.load(open(data_dir + train_file))\n"
   ]
  },
  {
   "cell_type": "code",
   "execution_count": 32,
   "metadata": {},
   "outputs": [],
   "source": [
    "import numpy as np\n",
    "import matplotlib.pyplot as plt\n",
    "from matplotlib import colormaps\n",
    "from matplotlib.backends.backend_pdf import PdfPages\n",
    "\n",
    "class ARCProcessor:\n",
    "    cmap = colormaps['tab10']\n",
    "    norm = plt.Normalize(vmin=0, vmax=9)\n",
    "    def __init__(self, input_file, output_file):\n",
    "        self.input_file = input_file\n",
    "        self.output_file = output_file\n",
    "\n",
    "    def process(self):\n",
    "        with open(self.input_file, 'r') as f, PdfPages(self.output_file) as pdf:\n",
    "            challenges = json.load(f)\n",
    "            total = len(challenges)\n",
    "            \n",
    "            for i, (challenge_id, data) in enumerate(challenges.items(), 1):\n",
    "                print(f\"Processing challenge {i}/{total}: {challenge_id}\")\n",
    "                \n",
    "                fig = self.plot_one(data, challenge_id)\n",
    "\n",
    "                plt.tight_layout()\n",
    "                pdf.savefig(fig)\n",
    "                plt.close(fig)\n",
    "\n",
    "        print(f\"PDF file '{self.output_file}' has been created.\")\n",
    "    \n",
    "    @classmethod\n",
    "    def plot_one(cls, data, challenge_id):\n",
    "        fig, ax = plt.subplots(figsize=(11, 5))  \n",
    "        ax.axis('off')\n",
    "        \n",
    "        gs = fig.add_gridspec(2, len(data['train']) + 1, hspace=0.1, wspace=0.1)\n",
    "        axs = gs.subplots()\n",
    "        \n",
    "        cls.plot_challenge(data, axs)\n",
    "        \n",
    "        fig.suptitle(f\"Challenge: {challenge_id}\", fontsize=16)\n",
    "        return fig\n",
    "\n",
    "    @classmethod\n",
    "    def plot_challenge(cls, data, axs):\n",
    "        for t_num, t in enumerate(data['train']):\n",
    "            cls.plot_grid(axs[0, t_num], t['input'])\n",
    "            cls.plot_grid(axs[1, t_num], t['output'])\n",
    "        \n",
    "        cls.plot_grid(axs[0, -1], data['test'][0]['input'])\n",
    "        cls.plot_grid(axs[1, -1], np.zeros_like(data['train'][0]['output']))\n",
    "\n",
    "    @classmethod\n",
    "    def plot_grid(cls, ax, data):\n",
    "        ax.imshow(data, cmap=cls.cmap, norm=cls.norm)\n",
    "        ax.grid(True, which='both', color='lightgrey', linewidth=0.5)\n",
    "        ax.set_yticks([x - 0.5 for x in range(1 + len(data))])\n",
    "        ax.set_xticks([x - 0.5 for x in range(1 + len(data[0]))])\n",
    "        ax.set_xticklabels([])\n",
    "        ax.set_yticklabels([])"
   ]
  },
  {
   "cell_type": "code",
   "execution_count": 33,
   "metadata": {},
   "outputs": [
    {
     "data": {
      "image/png": "[encoded data removed]",
      "text/plain": [
       "<Figure size 1100x500 with 13 Axes>"
      ]
     },
     "metadata": {},
     "output_type": "display_data"
    }
   ],
   "source": [
    "fig = ARCProcessor.plot_one(train_json['007bbfb7'], '007bbfb7')"
   ]
  },
  {
   "cell_type": "code",
   "execution_count": null,
   "metadata": {},
   "outputs": [],
   "source": [
    "d_h_layer = 256\n",
    "d_h = 256\n",
    "n_layers = 1\n",
    "d_in = d_x\n",
    "# d_out = d_y\n",
    "d_out = d_x\n",
    "d_vae_h = 128\n",
    "beta = 0.2\n",
    "\n",
    "import nn\n",
    "import importlib\n",
    "importlib.reload(nn)\n",
    "from nn import mglu_net_config, mglu_net, rmglu_net\n",
    "from pf import F, _\n",
    "\n",
    "from jax.numpy import mean, exp\n",
    "\n",
    "\n",
    "def vae_config(d_in, d_h_layer, d_vae_h, d_h, n_layers, init):\n",
    "    return {\n",
    "        \"encoder\":mglu_net_config(d_in, d_h_layer, 2 * d_vae_h, d_h, n_layers, init),\n",
    "        \"decoder\": mglu_net_config(d_vae_h, d_h_layer, d_in, d_h, n_layers, init)}\n",
    "\n",
    "def vae(W, x, noise):\n",
    "    h = mglu_net(x, W[\"encoder\"])\n",
    "    mu, log_sigma = h[:d_vae_h], h[d_vae_h:]\n",
    "    z = mu + noise * log_sigma\n",
    "    xp = mglu_net(z, W[\"decoder\"])\n",
    "    return xp, mu, log_sigma\n",
    "\n",
    "\n",
    "\n",
    "def vae_loss(W, x, noise):\n",
    "    xp, mu, log_sigma = vae(W, x, noise)\n",
    "    return ((xp - x) ** 2).mean() - 0.5 * beta * (1 + log_sigma - mu ** 2 - exp(log_sigma)).mean()\n",
    "\n",
    "\n",
    "loss_b = F(vae_loss).vmap((None, 0, 0), 0)\n",
    "loss_bm = loss_b >> mean\n",
    "\n",
    "def vae_test_loss(W, x):\n",
    "    xp, _, _ = vae(W, x, 0)\n",
    "    return ((xp - x) ** 2).mean()\n",
    "\n",
    "test_loss_b = F(vae_test_loss).vmap((None, 0), 0)\n",
    "test_loss_bm = test_loss_b >> mean\n",
    "\n",
    "vae_b = F(vae).vmap((None, 0, 0), 0)\n"
   ]
  }
 ],
 "metadata": {
  "kernelspec": {
   "display_name": ".venv",
   "language": "python",
   "name": "python3"
  },
  "language_info": {
   "codemirror_mode": {
    "name": "ipython",
    "version": 3
   },
   "file_extension": ".py",
   "mimetype": "text/x-python",
   "name": "python",
   "nbconvert_exporter": "python",
   "pygments_lexer": "ipython3",
   "version": "3.10.12"
  }
 },
 "nbformat": 4,
 "nbformat_minor": 2
}
