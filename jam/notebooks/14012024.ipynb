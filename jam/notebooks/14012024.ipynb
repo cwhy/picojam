{
 "cells": [
  {
   "cell_type": "code",
   "execution_count": 1,
   "metadata": {},
   "outputs": [],
   "source": [
    "from datasets import load_dataset\n",
    "\n",
    "# load iris\n",
    "iris = load_dataset(\"scikit-learn/iris\")\n"
   ]
  },
  {
   "cell_type": "code",
   "execution_count": 2,
   "metadata": {},
   "outputs": [
    {
     "data": {
      "text/plain": [
       "(150, 3)"
      ]
     },
     "execution_count": 2,
     "metadata": {},
     "output_type": "execute_result"
    }
   ],
   "source": [
    "\n",
    "from jax.numpy import vstack, array\n",
    "\n",
    "\n",
    "iris_train = iris['train']\n",
    "\n",
    "iris_train.set_format('jax', columns=['SepalLengthCm', 'SepalWidthCm', 'PetalLengthCm', 'PetalWidthCm', 'Species'])\n",
    "X = vstack((iris_train['SepalLengthCm'], iris_train['SepalWidthCm'], iris_train['PetalLengthCm'], iris_train['PetalWidthCm']))\n",
    "y_str = iris_train['Species']\n",
    "# y = y_str.map({'Iris-setosa': 0, 'Iris-versicolor': 1, 'Iris-virginica': 2})\n",
    "# y_str is a list\n",
    "y = array([0 if s == 'Iris-setosa' else 1 if s == 'Iris-versicolor' else 2 for s in y_str])\n",
    "y_1hot = array([[1, 0, 0] if s == 'Iris-setosa' else [0, 1, 0] if s == 'Iris-versicolor' else [0, 0, 1] for s in y_str])\n",
    "y_1hot.shape\n",
    "\n"
   ]
  },
  {
   "cell_type": "code",
   "execution_count": 5,
   "metadata": {},
   "outputs": [
    {
     "data": {
      "text/plain": [
       "Array([[ 0.0000000e+00,  1.0000000e+00,  0.0000000e+00,  1.0000000e+00,\n",
       "         0.0000000e+00,  1.0000000e+00,  0.0000000e+00,  1.0000000e+00,\n",
       "         0.0000000e+00,  1.0000000e+00],\n",
       "       [ 8.4147102e-01,  5.4030222e-01,  1.5782663e-01,  9.8746681e-01,\n",
       "         2.5116222e-02,  9.9968451e-01,  3.9810599e-03,  9.9999207e-01,\n",
       "         6.3095725e-04,  9.9999982e-01],\n",
       "       [ 9.0929747e-01, -4.1614699e-01,  3.1169716e-01,  9.5018154e-01,\n",
       "         5.0216597e-02,  9.9873835e-01,  7.9620574e-03,  9.9996829e-01,\n",
       "         1.2619143e-03,  9.9999923e-01],\n",
       "       [ 1.4112000e-01, -9.8999250e-01,  4.5775455e-01,  8.8907856e-01,\n",
       "         7.5285286e-02,  9.9716204e-01,  1.1942928e-02,  9.9992865e-01,\n",
       "         1.8928708e-03,  9.9999821e-01]], dtype=float32, weak_type=True)"
      ]
     },
     "execution_count": 5,
     "metadata": {},
     "output_type": "execute_result"
    }
   ],
   "source": [
    "import sys\n",
    "sys.path.append('../berries')\n",
    "from positional_encoding import get_positional_encoding\n",
    "get_positional_encoding(4, 10)\n"
   ]
  },
  {
   "cell_type": "code",
   "execution_count": null,
   "metadata": {},
   "outputs": [],
   "source": [
    "def affine(x, W, b):\n",
    "    return x @ W + b\n",
    "from init import zerO_init_2D\n",
    "W_ = zerO_init_2D((4, 3))\n"
   ]
  },
  {
   "cell_type": "code",
   "execution_count": null,
   "metadata": {},
   "outputs": [],
   "source": []
  }
 ],
 "metadata": {
  "kernelspec": {
   "display_name": ".venv",
   "language": "python",
   "name": "python3"
  },
  "language_info": {
   "codemirror_mode": {
    "name": "ipython",
    "version": 3
   },
   "file_extension": ".py",
   "mimetype": "text/x-python",
   "name": "python",
   "nbconvert_exporter": "python",
   "pygments_lexer": "ipython3",
   "version": "3.10.12"
  }
 },
 "nbformat": 4,
 "nbformat_minor": 2
}
