{
 "cells": [
  {
   "cell_type": "code",
   "execution_count": 34,
   "id": "dc94281f-b34b-4d0d-a179-ff2175d42fe0",
   "metadata": {},
   "outputs": [],
   "source": [
    "from datasets import load_dataset\n",
    "\n",
    "mnist = load_dataset(\"mnist\").with_format(\"jax\")\n",
    "mnistData = mnist['train']\n",
    "X_img = mnistData['image']\n",
    "y = mnistData['label']\n",
    "X_img_test = mnist[\"test\"][\"image\"]\n",
    "n_test_samples = X_img_test.shape[0]\n",
    "X_test = X_img_test.reshape((n_test_samples, -1))\n",
    "y_test = mnist[\"test\"][\"label\"]"
   ]
  },
  {
   "cell_type": "code",
   "execution_count": 35,
   "id": "c9ccfc86-766f-46c1-8bd4-90f58d6e8069",
   "metadata": {},
   "outputs": [],
   "source": [
    "n_samples, _, _ = X_img.shape\n",
    "X = X_img.reshape((n_samples, -1))\n",
    "n_samples, d_in = X.shape\n",
    "d_out = len(set(y.tolist()))"
   ]
  },
  {
   "cell_type": "code",
   "execution_count": 49,
   "id": "2a090d77-1dde-4f45-8c65-bde02586f0da",
   "metadata": {},
   "outputs": [
    {
     "name": "stdout",
     "output_type": "stream",
     "text": [
      "(60000, 784)\n",
      "4.149068\n"
     ]
    }
   ],
   "source": [
    "from jax import vmap, jit, grad\n",
    "from jax.nn import sigmoid, softmax\n",
    "from jax.numpy import zeros\n",
    "from better_partial import _, partial as F\n",
    "import sys\n",
    "sys.path.append('../berries')\n",
    "import init_utils, random_utils\n",
    "from init_utils import zerO_init_2D\n",
    "import optax\n",
    "\n",
    "def affine(x, W, b):\n",
    "    return W.T @ x + b\n",
    "\n",
    "def swish(x):\n",
    "    return x * sigmoid(x)\n",
    "\n",
    "def mlp2l(x, W1, b1, W2, b2):\n",
    "    affineF = F(affine)\n",
    "    l1 = affineF(_, W1, b1)\n",
    "    l2 = affineF(_, W2, b2)\n",
    "    return l2(swish(l1(x)))\n",
    "\n",
    "def accuracy(logits, y):\n",
    "    return (logits.argmax(-1) == y).mean()\n",
    "\n",
    "def get_accuracy(x, y, W):\n",
    "    return accuracy(mlp2l(x, *W), y)\n",
    "\n",
    "\n",
    "get_accuracy_b = vmap(get_accuracy, in_axes=(0, 0, None), out_axes=0)\n",
    "get_accuracy_b_d = lambda W: get_accuracy_b(X, y, W).mean()\n",
    "get_accuracy_b_t = lambda W: get_accuracy_b(X_test, y_test, W).mean()\n",
    "\n",
    "seed = 0\n",
    "key_gen = random_utils.infinite_safe_keys(seed)\n",
    "\n",
    "print(X.shape)\n",
    "d_h1 = 128\n",
    "normal_init_std = 0.01\n",
    "\n",
    "#W1 = init_utils.zerO_init_2D((d_in, d_h1))\n",
    "W1 = init_utils.normal_init(next(key_gen), normal_init_std, (d_in, d_h1))\n",
    "b1 = zeros((d_h1))\n",
    "#W2 = init_utils.zerO_init_2D((d_h1, d_out))\n",
    "W2 = init_utils.normal_init(next(key_gen), normal_init_std, (d_h1, d_out))\n",
    "b2 = zeros((d_out))\n",
    "\n",
    "mlp2l_b = vmap(mlp2l, in_axes=(0, None, None, None, None), out_axes=0)\n",
    "mlp2l_b(X, W1, b1, W2, b2)\n",
    "\n",
    "def sce_loss(to_logits, x, y, W):\n",
    "    return optax.softmax_cross_entropy_with_integer_labels(to_logits(x, *W), y)\n",
    "\n",
    "\n",
    "loss_b_all = vmap(F(sce_loss)(mlp2l, _, _, _), (0, 0, None), 0)\n",
    "loss_d = F(loss_b_all)(X, y, _)\n",
    "loss_b_d = lambda X: loss_d(X).mean()\n",
    "\n",
    "W = (W1, b1, W2, b2)\n",
    "loss0 = loss_b_d(W)\n",
    "print(loss0)\n",
    "lr = 0.001\n",
    "opt = optax.rmsprop(lr)\n",
    "state = opt.init(W)\n",
    "\n",
    "@jit\n",
    "def update(W, opt_state):\n",
    "    grads = grad(loss_b_d)(W)\n",
    "    updates, opt_state = opt.update(grads, opt_state)\n",
    "    new_W = optax.apply_updates(W, updates)\n",
    "    return new_W, opt_state"
   ]
  },
  {
   "cell_type": "code",
   "execution_count": 56,
   "id": "b8467d0e-d089-48e3-9d10-3d00c999431f",
   "metadata": {},
   "outputs": [
    {
     "name": "stdout",
     "output_type": "stream",
     "text": [
      "1.0 0.97959995 2.2086206e-07\n",
      "1.0 0.97959995 2.1861102e-07\n",
      "1.0 0.97959995 2.1633811e-07\n",
      "1.0 0.97959995 2.1417051e-07\n",
      "1.0 0.97959995 2.1201087e-07\n",
      "1.0 0.97959995 2.099247e-07\n",
      "1.0 0.97959995 2.0785049e-07\n",
      "1.0 0.97959995 2.059054e-07\n",
      "1.0 0.97959995 2.038888e-07\n",
      "1.0 0.97959995 2.0190397e-07\n",
      "1.0 0.97959995 2.0007613e-07\n",
      "1.0 0.97959995 1.982264e-07\n",
      "1.0 0.97959995 1.9640649e-07\n",
      "1.0 0.97959995 1.9457067e-07\n",
      "1.0 0.97959995 1.9279646e-07\n",
      "1.0 0.9795 1.9108383e-07\n",
      "1.0 0.9795 1.8931955e-07\n",
      "1.0 0.9795 1.876546e-07\n",
      "1.0 0.9795 1.8605124e-07\n",
      "1.0 0.9795 1.84432e-07\n",
      "[0. 0. 0. ... 0. 0. 0.]\n"
     ]
    }
   ],
   "source": [
    "\n",
    "for i in range(1000):\n",
    "    W, state = update(W, state)\n",
    "    if i % 50 == 0:\n",
    "        print(get_accuracy_b_d(W), get_accuracy_b_t(W), loss_b_d(W))\n",
    "print(loss_d(W))\n",
    "\n"
   ]
  }
 ],
 "metadata": {
  "kernelspec": {
   "display_name": "Python 3 (ipykernel)",
   "language": "python",
   "name": "python3"
  },
  "language_info": {
   "codemirror_mode": {
    "name": "ipython",
    "version": 3
   },
   "file_extension": ".py",
   "mimetype": "text/x-python",
   "name": "python",
   "nbconvert_exporter": "python",
   "pygments_lexer": "ipython3",
   "version": "3.10.12"
  }
 },
 "nbformat": 4,
 "nbformat_minor": 5
}
