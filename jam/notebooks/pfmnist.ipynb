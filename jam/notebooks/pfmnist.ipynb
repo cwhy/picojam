{
 "cells": [
  {
   "cell_type": "code",
   "execution_count": null,
   "metadata": {},
   "outputs": [],
   "source": [
    "\n",
    "import functools\n",
    "from typing import Callable\n",
    "from better_partial import _, partial\n",
    "\n",
    "\n",
    "def compose(f, g):\n",
    "    return lambda *args, **kw: f(g(*args, **kw))\n",
    "\n",
    "class PointFreeFunction:\n",
    "    def __init__(self, f):\n",
    "        self.f = f\n",
    "        functools.update_wrapper(self, f)\n",
    "    \n",
    "    def f(self, *args, **kw):\n",
    "        return partial(self.f)(*args, **kw)\n",
    "\n",
    "    def __call__(self, *args, **kw):\n",
    "        return self.f(*args, **kw)\n",
    "    \n",
    "    def __rshift__(self, other: PointFreeFunction | Callable):\n",
    "        if isinstance(other, PointFreeFunction):\n",
    "            return PointFreeFunction(compose(self.f, other.f))\n",
    "        elif callable(other):\n",
    "            return PointFreeFunction(compose(self.f, other))\n",
    "        else:\n",
    "            raise TypeError(\"other must be callable or PointFreeFunction\")\n",
    "\n",
    "\n",
    "from jax import vmap\n",
    "# F = lambda f: PointFreeFunction(partial(f))\n",
    "F  = PointFreeFunction\n",
    "vmap = compose(F, vmap)"
   ]
  }
 ],
 "metadata": {
  "language_info": {
   "name": "python"
  }
 },
 "nbformat": 4,
 "nbformat_minor": 2
}
